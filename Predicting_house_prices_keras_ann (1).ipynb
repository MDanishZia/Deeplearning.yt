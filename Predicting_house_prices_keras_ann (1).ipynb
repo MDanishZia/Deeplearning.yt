{
  "cells": [
    {
      "cell_type": "code",
      "execution_count": 1,
      "metadata": {
        "id": "EUuAlICwWo9N"
      },
      "outputs": [],
      "source": [
        "# data analysis and wrangling\n",
        "import pandas as pd\n",
        "import numpy as np\n",
        "import random as rnd\n",
        "\n",
        "# visualization\n",
        "import seaborn as sns\n",
        "import matplotlib.pyplot as plt\n",
        "%matplotlib inline\n",
        "\n",
        "# scaling and train test split\n",
        "from sklearn.model_selection import train_test_split\n",
        "from sklearn.preprocessing import MinMaxScaler\n",
        "\n",
        "# creating a model\n",
        "from tensorflow.keras.models import Sequential\n",
        "from tensorflow.keras.layers import Dense, Activation\n",
        "from tensorflow.keras.optimizers import Adam\n",
        "\n",
        "# evaluation on test data\n",
        "from sklearn.metrics import mean_squared_error,mean_absolute_error,explained_variance_score\n",
        "from sklearn.metrics import classification_report,confusion_matrix"
      ]
    },
    {
      "cell_type": "markdown",
      "metadata": {
        "id": "kcv48F0xWo9O"
      },
      "source": [
        "### Acquire data\n",
        "The Python Pandas packages helps us work with our datasets. We start by acquiring the datasets into Pandas DataFrames."
      ]
    },
    {
      "cell_type": "code",
      "execution_count": 2,
      "metadata": {
        "colab": {
          "base_uri": "https://localhost:8080/"
        },
        "id": "3ctzD3onWo9P",
        "outputId": "986a467b-de10-4538-fd99-635c5586ae29"
      },
      "outputs": [
        {
          "output_type": "stream",
          "name": "stdout",
          "text": [
            "Mounted at /content/drive\n"
          ]
        }
      ],
      "source": [
        "from google.colab import drive\n",
        "drive.mount('/content/drive', force_remount=True)\n",
        "\n",
        "df = pd.read_csv('/content/drive/MyDrive/kc_house_data.csv')"
      ]
    },
    {
      "cell_type": "markdown",
      "metadata": {
        "id": "YVDRYqIJWo9Q"
      },
      "source": [
        "### Analyze by describing data\n",
        "Pandas also helps describe the datasets answering following questions early in our project.\n",
        "\n",
        "***Which features are available in the dataset?***"
      ]
    },
    {
      "cell_type": "code",
      "execution_count": 3,
      "metadata": {
        "colab": {
          "base_uri": "https://localhost:8080/"
        },
        "id": "aMSPjXqRWo9R",
        "outputId": "67ce6d5f-d6fc-48aa-ad19-cdafa43fb461"
      },
      "outputs": [
        {
          "output_type": "stream",
          "name": "stdout",
          "text": [
            "['id' 'date' 'price' 'bedrooms' 'bathrooms' 'sqft_living' 'sqft_lot'\n",
            " 'floors' 'waterfront' 'view' 'condition' 'grade' 'sqft_above'\n",
            " 'sqft_basement' 'yr_built' 'yr_renovated' 'zipcode' 'lat' 'long'\n",
            " 'sqft_living15' 'sqft_lot15']\n"
          ]
        }
      ],
      "source": [
        "print(df.columns.values)"
      ]
    },
    {
      "cell_type": "code",
      "execution_count": 4,
      "metadata": {
        "colab": {
          "base_uri": "https://localhost:8080/",
          "height": 236
        },
        "id": "OMkuffKbWo9T",
        "outputId": "26ee36b3-5a76-426d-d185-11f7a85e61dd"
      },
      "outputs": [
        {
          "output_type": "execute_result",
          "data": {
            "text/plain": [
              "           id             date     price  bedrooms  bathrooms  sqft_living  \\\n",
              "0  7129300520  20141013T000000  221900.0         3       1.00         1180   \n",
              "1  6414100192  20141209T000000  538000.0         3       2.25         2570   \n",
              "2  5631500400  20150225T000000  180000.0         2       1.00          770   \n",
              "3  2487200875  20141209T000000  604000.0         4       3.00         1960   \n",
              "4  1954400510  20150218T000000  510000.0         3       2.00         1680   \n",
              "\n",
              "   sqft_lot  floors  waterfront  view  ...  grade  sqft_above  sqft_basement  \\\n",
              "0      5650     1.0           0     0  ...      7        1180              0   \n",
              "1      7242     2.0           0     0  ...      7        2170            400   \n",
              "2     10000     1.0           0     0  ...      6         770              0   \n",
              "3      5000     1.0           0     0  ...      7        1050            910   \n",
              "4      8080     1.0           0     0  ...      8        1680              0   \n",
              "\n",
              "   yr_built  yr_renovated  zipcode      lat     long  sqft_living15  \\\n",
              "0      1955             0    98178  47.5112 -122.257           1340   \n",
              "1      1951          1991    98125  47.7210 -122.319           1690   \n",
              "2      1933             0    98028  47.7379 -122.233           2720   \n",
              "3      1965             0    98136  47.5208 -122.393           1360   \n",
              "4      1987             0    98074  47.6168 -122.045           1800   \n",
              "\n",
              "   sqft_lot15  \n",
              "0        5650  \n",
              "1        7639  \n",
              "2        8062  \n",
              "3        5000  \n",
              "4        7503  \n",
              "\n",
              "[5 rows x 21 columns]"
            ],
            "text/html": [
              "\n",
              "  <div id=\"df-d674e181-8dbe-4f1d-802b-ecaa091b099e\">\n",
              "    <div class=\"colab-df-container\">\n",
              "      <div>\n",
              "<style scoped>\n",
              "    .dataframe tbody tr th:only-of-type {\n",
              "        vertical-align: middle;\n",
              "    }\n",
              "\n",
              "    .dataframe tbody tr th {\n",
              "        vertical-align: top;\n",
              "    }\n",
              "\n",
              "    .dataframe thead th {\n",
              "        text-align: right;\n",
              "    }\n",
              "</style>\n",
              "<table border=\"1\" class=\"dataframe\">\n",
              "  <thead>\n",
              "    <tr style=\"text-align: right;\">\n",
              "      <th></th>\n",
              "      <th>id</th>\n",
              "      <th>date</th>\n",
              "      <th>price</th>\n",
              "      <th>bedrooms</th>\n",
              "      <th>bathrooms</th>\n",
              "      <th>sqft_living</th>\n",
              "      <th>sqft_lot</th>\n",
              "      <th>floors</th>\n",
              "      <th>waterfront</th>\n",
              "      <th>view</th>\n",
              "      <th>...</th>\n",
              "      <th>grade</th>\n",
              "      <th>sqft_above</th>\n",
              "      <th>sqft_basement</th>\n",
              "      <th>yr_built</th>\n",
              "      <th>yr_renovated</th>\n",
              "      <th>zipcode</th>\n",
              "      <th>lat</th>\n",
              "      <th>long</th>\n",
              "      <th>sqft_living15</th>\n",
              "      <th>sqft_lot15</th>\n",
              "    </tr>\n",
              "  </thead>\n",
              "  <tbody>\n",
              "    <tr>\n",
              "      <th>0</th>\n",
              "      <td>7129300520</td>\n",
              "      <td>20141013T000000</td>\n",
              "      <td>221900.0</td>\n",
              "      <td>3</td>\n",
              "      <td>1.00</td>\n",
              "      <td>1180</td>\n",
              "      <td>5650</td>\n",
              "      <td>1.0</td>\n",
              "      <td>0</td>\n",
              "      <td>0</td>\n",
              "      <td>...</td>\n",
              "      <td>7</td>\n",
              "      <td>1180</td>\n",
              "      <td>0</td>\n",
              "      <td>1955</td>\n",
              "      <td>0</td>\n",
              "      <td>98178</td>\n",
              "      <td>47.5112</td>\n",
              "      <td>-122.257</td>\n",
              "      <td>1340</td>\n",
              "      <td>5650</td>\n",
              "    </tr>\n",
              "    <tr>\n",
              "      <th>1</th>\n",
              "      <td>6414100192</td>\n",
              "      <td>20141209T000000</td>\n",
              "      <td>538000.0</td>\n",
              "      <td>3</td>\n",
              "      <td>2.25</td>\n",
              "      <td>2570</td>\n",
              "      <td>7242</td>\n",
              "      <td>2.0</td>\n",
              "      <td>0</td>\n",
              "      <td>0</td>\n",
              "      <td>...</td>\n",
              "      <td>7</td>\n",
              "      <td>2170</td>\n",
              "      <td>400</td>\n",
              "      <td>1951</td>\n",
              "      <td>1991</td>\n",
              "      <td>98125</td>\n",
              "      <td>47.7210</td>\n",
              "      <td>-122.319</td>\n",
              "      <td>1690</td>\n",
              "      <td>7639</td>\n",
              "    </tr>\n",
              "    <tr>\n",
              "      <th>2</th>\n",
              "      <td>5631500400</td>\n",
              "      <td>20150225T000000</td>\n",
              "      <td>180000.0</td>\n",
              "      <td>2</td>\n",
              "      <td>1.00</td>\n",
              "      <td>770</td>\n",
              "      <td>10000</td>\n",
              "      <td>1.0</td>\n",
              "      <td>0</td>\n",
              "      <td>0</td>\n",
              "      <td>...</td>\n",
              "      <td>6</td>\n",
              "      <td>770</td>\n",
              "      <td>0</td>\n",
              "      <td>1933</td>\n",
              "      <td>0</td>\n",
              "      <td>98028</td>\n",
              "      <td>47.7379</td>\n",
              "      <td>-122.233</td>\n",
              "      <td>2720</td>\n",
              "      <td>8062</td>\n",
              "    </tr>\n",
              "    <tr>\n",
              "      <th>3</th>\n",
              "      <td>2487200875</td>\n",
              "      <td>20141209T000000</td>\n",
              "      <td>604000.0</td>\n",
              "      <td>4</td>\n",
              "      <td>3.00</td>\n",
              "      <td>1960</td>\n",
              "      <td>5000</td>\n",
              "      <td>1.0</td>\n",
              "      <td>0</td>\n",
              "      <td>0</td>\n",
              "      <td>...</td>\n",
              "      <td>7</td>\n",
              "      <td>1050</td>\n",
              "      <td>910</td>\n",
              "      <td>1965</td>\n",
              "      <td>0</td>\n",
              "      <td>98136</td>\n",
              "      <td>47.5208</td>\n",
              "      <td>-122.393</td>\n",
              "      <td>1360</td>\n",
              "      <td>5000</td>\n",
              "    </tr>\n",
              "    <tr>\n",
              "      <th>4</th>\n",
              "      <td>1954400510</td>\n",
              "      <td>20150218T000000</td>\n",
              "      <td>510000.0</td>\n",
              "      <td>3</td>\n",
              "      <td>2.00</td>\n",
              "      <td>1680</td>\n",
              "      <td>8080</td>\n",
              "      <td>1.0</td>\n",
              "      <td>0</td>\n",
              "      <td>0</td>\n",
              "      <td>...</td>\n",
              "      <td>8</td>\n",
              "      <td>1680</td>\n",
              "      <td>0</td>\n",
              "      <td>1987</td>\n",
              "      <td>0</td>\n",
              "      <td>98074</td>\n",
              "      <td>47.6168</td>\n",
              "      <td>-122.045</td>\n",
              "      <td>1800</td>\n",
              "      <td>7503</td>\n",
              "    </tr>\n",
              "  </tbody>\n",
              "</table>\n",
              "<p>5 rows × 21 columns</p>\n",
              "</div>\n",
              "      <button class=\"colab-df-convert\" onclick=\"convertToInteractive('df-d674e181-8dbe-4f1d-802b-ecaa091b099e')\"\n",
              "              title=\"Convert this dataframe to an interactive table.\"\n",
              "              style=\"display:none;\">\n",
              "        \n",
              "  <svg xmlns=\"http://www.w3.org/2000/svg\" height=\"24px\"viewBox=\"0 0 24 24\"\n",
              "       width=\"24px\">\n",
              "    <path d=\"M0 0h24v24H0V0z\" fill=\"none\"/>\n",
              "    <path d=\"M18.56 5.44l.94 2.06.94-2.06 2.06-.94-2.06-.94-.94-2.06-.94 2.06-2.06.94zm-11 1L8.5 8.5l.94-2.06 2.06-.94-2.06-.94L8.5 2.5l-.94 2.06-2.06.94zm10 10l.94 2.06.94-2.06 2.06-.94-2.06-.94-.94-2.06-.94 2.06-2.06.94z\"/><path d=\"M17.41 7.96l-1.37-1.37c-.4-.4-.92-.59-1.43-.59-.52 0-1.04.2-1.43.59L10.3 9.45l-7.72 7.72c-.78.78-.78 2.05 0 2.83L4 21.41c.39.39.9.59 1.41.59.51 0 1.02-.2 1.41-.59l7.78-7.78 2.81-2.81c.8-.78.8-2.07 0-2.86zM5.41 20L4 18.59l7.72-7.72 1.47 1.35L5.41 20z\"/>\n",
              "  </svg>\n",
              "      </button>\n",
              "      \n",
              "  <style>\n",
              "    .colab-df-container {\n",
              "      display:flex;\n",
              "      flex-wrap:wrap;\n",
              "      gap: 12px;\n",
              "    }\n",
              "\n",
              "    .colab-df-convert {\n",
              "      background-color: #E8F0FE;\n",
              "      border: none;\n",
              "      border-radius: 50%;\n",
              "      cursor: pointer;\n",
              "      display: none;\n",
              "      fill: #1967D2;\n",
              "      height: 32px;\n",
              "      padding: 0 0 0 0;\n",
              "      width: 32px;\n",
              "    }\n",
              "\n",
              "    .colab-df-convert:hover {\n",
              "      background-color: #E2EBFA;\n",
              "      box-shadow: 0px 1px 2px rgba(60, 64, 67, 0.3), 0px 1px 3px 1px rgba(60, 64, 67, 0.15);\n",
              "      fill: #174EA6;\n",
              "    }\n",
              "\n",
              "    [theme=dark] .colab-df-convert {\n",
              "      background-color: #3B4455;\n",
              "      fill: #D2E3FC;\n",
              "    }\n",
              "\n",
              "    [theme=dark] .colab-df-convert:hover {\n",
              "      background-color: #434B5C;\n",
              "      box-shadow: 0px 1px 3px 1px rgba(0, 0, 0, 0.15);\n",
              "      filter: drop-shadow(0px 1px 2px rgba(0, 0, 0, 0.3));\n",
              "      fill: #FFFFFF;\n",
              "    }\n",
              "  </style>\n",
              "\n",
              "      <script>\n",
              "        const buttonEl =\n",
              "          document.querySelector('#df-d674e181-8dbe-4f1d-802b-ecaa091b099e button.colab-df-convert');\n",
              "        buttonEl.style.display =\n",
              "          google.colab.kernel.accessAllowed ? 'block' : 'none';\n",
              "\n",
              "        async function convertToInteractive(key) {\n",
              "          const element = document.querySelector('#df-d674e181-8dbe-4f1d-802b-ecaa091b099e');\n",
              "          const dataTable =\n",
              "            await google.colab.kernel.invokeFunction('convertToInteractive',\n",
              "                                                     [key], {});\n",
              "          if (!dataTable) return;\n",
              "\n",
              "          const docLinkHtml = 'Like what you see? Visit the ' +\n",
              "            '<a target=\"_blank\" href=https://colab.research.google.com/notebooks/data_table.ipynb>data table notebook</a>'\n",
              "            + ' to learn more about interactive tables.';\n",
              "          element.innerHTML = '';\n",
              "          dataTable['output_type'] = 'display_data';\n",
              "          await google.colab.output.renderOutput(dataTable, element);\n",
              "          const docLink = document.createElement('div');\n",
              "          docLink.innerHTML = docLinkHtml;\n",
              "          element.appendChild(docLink);\n",
              "        }\n",
              "      </script>\n",
              "    </div>\n",
              "  </div>\n",
              "  "
            ]
          },
          "metadata": {},
          "execution_count": 4
        }
      ],
      "source": [
        "# preview the data\n",
        "df.head()"
      ]
    },
    {
      "cell_type": "code",
      "execution_count": 5,
      "metadata": {
        "colab": {
          "base_uri": "https://localhost:8080/",
          "height": 280
        },
        "id": "CfPcHPY3Wo9V",
        "outputId": "d656d25c-6138-4b8c-9257-33e1316418b6"
      },
      "outputs": [
        {
          "output_type": "execute_result",
          "data": {
            "text/plain": [
              "               id             date     price  bedrooms  bathrooms  \\\n",
              "21608   263000018  20140521T000000  360000.0         3       2.50   \n",
              "21609  6600060120  20150223T000000  400000.0         4       2.50   \n",
              "21610  1523300141  20140623T000000  402101.0         2       0.75   \n",
              "21611   291310100  20150116T000000  400000.0         3       2.50   \n",
              "21612  1523300157  20141015T000000  325000.0         2       0.75   \n",
              "\n",
              "       sqft_living  sqft_lot  floors  waterfront  view  ...  grade  \\\n",
              "21608         1530      1131     3.0           0     0  ...      8   \n",
              "21609         2310      5813     2.0           0     0  ...      8   \n",
              "21610         1020      1350     2.0           0     0  ...      7   \n",
              "21611         1600      2388     2.0           0     0  ...      8   \n",
              "21612         1020      1076     2.0           0     0  ...      7   \n",
              "\n",
              "       sqft_above  sqft_basement  yr_built  yr_renovated  zipcode      lat  \\\n",
              "21608        1530              0      2009             0    98103  47.6993   \n",
              "21609        2310              0      2014             0    98146  47.5107   \n",
              "21610        1020              0      2009             0    98144  47.5944   \n",
              "21611        1600              0      2004             0    98027  47.5345   \n",
              "21612        1020              0      2008             0    98144  47.5941   \n",
              "\n",
              "          long  sqft_living15  sqft_lot15  \n",
              "21608 -122.346           1530        1509  \n",
              "21609 -122.362           1830        7200  \n",
              "21610 -122.299           1020        2007  \n",
              "21611 -122.069           1410        1287  \n",
              "21612 -122.299           1020        1357  \n",
              "\n",
              "[5 rows x 21 columns]"
            ],
            "text/html": [
              "\n",
              "  <div id=\"df-2447290b-aec2-45ba-a15b-ab4202f94416\">\n",
              "    <div class=\"colab-df-container\">\n",
              "      <div>\n",
              "<style scoped>\n",
              "    .dataframe tbody tr th:only-of-type {\n",
              "        vertical-align: middle;\n",
              "    }\n",
              "\n",
              "    .dataframe tbody tr th {\n",
              "        vertical-align: top;\n",
              "    }\n",
              "\n",
              "    .dataframe thead th {\n",
              "        text-align: right;\n",
              "    }\n",
              "</style>\n",
              "<table border=\"1\" class=\"dataframe\">\n",
              "  <thead>\n",
              "    <tr style=\"text-align: right;\">\n",
              "      <th></th>\n",
              "      <th>id</th>\n",
              "      <th>date</th>\n",
              "      <th>price</th>\n",
              "      <th>bedrooms</th>\n",
              "      <th>bathrooms</th>\n",
              "      <th>sqft_living</th>\n",
              "      <th>sqft_lot</th>\n",
              "      <th>floors</th>\n",
              "      <th>waterfront</th>\n",
              "      <th>view</th>\n",
              "      <th>...</th>\n",
              "      <th>grade</th>\n",
              "      <th>sqft_above</th>\n",
              "      <th>sqft_basement</th>\n",
              "      <th>yr_built</th>\n",
              "      <th>yr_renovated</th>\n",
              "      <th>zipcode</th>\n",
              "      <th>lat</th>\n",
              "      <th>long</th>\n",
              "      <th>sqft_living15</th>\n",
              "      <th>sqft_lot15</th>\n",
              "    </tr>\n",
              "  </thead>\n",
              "  <tbody>\n",
              "    <tr>\n",
              "      <th>21608</th>\n",
              "      <td>263000018</td>\n",
              "      <td>20140521T000000</td>\n",
              "      <td>360000.0</td>\n",
              "      <td>3</td>\n",
              "      <td>2.50</td>\n",
              "      <td>1530</td>\n",
              "      <td>1131</td>\n",
              "      <td>3.0</td>\n",
              "      <td>0</td>\n",
              "      <td>0</td>\n",
              "      <td>...</td>\n",
              "      <td>8</td>\n",
              "      <td>1530</td>\n",
              "      <td>0</td>\n",
              "      <td>2009</td>\n",
              "      <td>0</td>\n",
              "      <td>98103</td>\n",
              "      <td>47.6993</td>\n",
              "      <td>-122.346</td>\n",
              "      <td>1530</td>\n",
              "      <td>1509</td>\n",
              "    </tr>\n",
              "    <tr>\n",
              "      <th>21609</th>\n",
              "      <td>6600060120</td>\n",
              "      <td>20150223T000000</td>\n",
              "      <td>400000.0</td>\n",
              "      <td>4</td>\n",
              "      <td>2.50</td>\n",
              "      <td>2310</td>\n",
              "      <td>5813</td>\n",
              "      <td>2.0</td>\n",
              "      <td>0</td>\n",
              "      <td>0</td>\n",
              "      <td>...</td>\n",
              "      <td>8</td>\n",
              "      <td>2310</td>\n",
              "      <td>0</td>\n",
              "      <td>2014</td>\n",
              "      <td>0</td>\n",
              "      <td>98146</td>\n",
              "      <td>47.5107</td>\n",
              "      <td>-122.362</td>\n",
              "      <td>1830</td>\n",
              "      <td>7200</td>\n",
              "    </tr>\n",
              "    <tr>\n",
              "      <th>21610</th>\n",
              "      <td>1523300141</td>\n",
              "      <td>20140623T000000</td>\n",
              "      <td>402101.0</td>\n",
              "      <td>2</td>\n",
              "      <td>0.75</td>\n",
              "      <td>1020</td>\n",
              "      <td>1350</td>\n",
              "      <td>2.0</td>\n",
              "      <td>0</td>\n",
              "      <td>0</td>\n",
              "      <td>...</td>\n",
              "      <td>7</td>\n",
              "      <td>1020</td>\n",
              "      <td>0</td>\n",
              "      <td>2009</td>\n",
              "      <td>0</td>\n",
              "      <td>98144</td>\n",
              "      <td>47.5944</td>\n",
              "      <td>-122.299</td>\n",
              "      <td>1020</td>\n",
              "      <td>2007</td>\n",
              "    </tr>\n",
              "    <tr>\n",
              "      <th>21611</th>\n",
              "      <td>291310100</td>\n",
              "      <td>20150116T000000</td>\n",
              "      <td>400000.0</td>\n",
              "      <td>3</td>\n",
              "      <td>2.50</td>\n",
              "      <td>1600</td>\n",
              "      <td>2388</td>\n",
              "      <td>2.0</td>\n",
              "      <td>0</td>\n",
              "      <td>0</td>\n",
              "      <td>...</td>\n",
              "      <td>8</td>\n",
              "      <td>1600</td>\n",
              "      <td>0</td>\n",
              "      <td>2004</td>\n",
              "      <td>0</td>\n",
              "      <td>98027</td>\n",
              "      <td>47.5345</td>\n",
              "      <td>-122.069</td>\n",
              "      <td>1410</td>\n",
              "      <td>1287</td>\n",
              "    </tr>\n",
              "    <tr>\n",
              "      <th>21612</th>\n",
              "      <td>1523300157</td>\n",
              "      <td>20141015T000000</td>\n",
              "      <td>325000.0</td>\n",
              "      <td>2</td>\n",
              "      <td>0.75</td>\n",
              "      <td>1020</td>\n",
              "      <td>1076</td>\n",
              "      <td>2.0</td>\n",
              "      <td>0</td>\n",
              "      <td>0</td>\n",
              "      <td>...</td>\n",
              "      <td>7</td>\n",
              "      <td>1020</td>\n",
              "      <td>0</td>\n",
              "      <td>2008</td>\n",
              "      <td>0</td>\n",
              "      <td>98144</td>\n",
              "      <td>47.5941</td>\n",
              "      <td>-122.299</td>\n",
              "      <td>1020</td>\n",
              "      <td>1357</td>\n",
              "    </tr>\n",
              "  </tbody>\n",
              "</table>\n",
              "<p>5 rows × 21 columns</p>\n",
              "</div>\n",
              "      <button class=\"colab-df-convert\" onclick=\"convertToInteractive('df-2447290b-aec2-45ba-a15b-ab4202f94416')\"\n",
              "              title=\"Convert this dataframe to an interactive table.\"\n",
              "              style=\"display:none;\">\n",
              "        \n",
              "  <svg xmlns=\"http://www.w3.org/2000/svg\" height=\"24px\"viewBox=\"0 0 24 24\"\n",
              "       width=\"24px\">\n",
              "    <path d=\"M0 0h24v24H0V0z\" fill=\"none\"/>\n",
              "    <path d=\"M18.56 5.44l.94 2.06.94-2.06 2.06-.94-2.06-.94-.94-2.06-.94 2.06-2.06.94zm-11 1L8.5 8.5l.94-2.06 2.06-.94-2.06-.94L8.5 2.5l-.94 2.06-2.06.94zm10 10l.94 2.06.94-2.06 2.06-.94-2.06-.94-.94-2.06-.94 2.06-2.06.94z\"/><path d=\"M17.41 7.96l-1.37-1.37c-.4-.4-.92-.59-1.43-.59-.52 0-1.04.2-1.43.59L10.3 9.45l-7.72 7.72c-.78.78-.78 2.05 0 2.83L4 21.41c.39.39.9.59 1.41.59.51 0 1.02-.2 1.41-.59l7.78-7.78 2.81-2.81c.8-.78.8-2.07 0-2.86zM5.41 20L4 18.59l7.72-7.72 1.47 1.35L5.41 20z\"/>\n",
              "  </svg>\n",
              "      </button>\n",
              "      \n",
              "  <style>\n",
              "    .colab-df-container {\n",
              "      display:flex;\n",
              "      flex-wrap:wrap;\n",
              "      gap: 12px;\n",
              "    }\n",
              "\n",
              "    .colab-df-convert {\n",
              "      background-color: #E8F0FE;\n",
              "      border: none;\n",
              "      border-radius: 50%;\n",
              "      cursor: pointer;\n",
              "      display: none;\n",
              "      fill: #1967D2;\n",
              "      height: 32px;\n",
              "      padding: 0 0 0 0;\n",
              "      width: 32px;\n",
              "    }\n",
              "\n",
              "    .colab-df-convert:hover {\n",
              "      background-color: #E2EBFA;\n",
              "      box-shadow: 0px 1px 2px rgba(60, 64, 67, 0.3), 0px 1px 3px 1px rgba(60, 64, 67, 0.15);\n",
              "      fill: #174EA6;\n",
              "    }\n",
              "\n",
              "    [theme=dark] .colab-df-convert {\n",
              "      background-color: #3B4455;\n",
              "      fill: #D2E3FC;\n",
              "    }\n",
              "\n",
              "    [theme=dark] .colab-df-convert:hover {\n",
              "      background-color: #434B5C;\n",
              "      box-shadow: 0px 1px 3px 1px rgba(0, 0, 0, 0.15);\n",
              "      filter: drop-shadow(0px 1px 2px rgba(0, 0, 0, 0.3));\n",
              "      fill: #FFFFFF;\n",
              "    }\n",
              "  </style>\n",
              "\n",
              "      <script>\n",
              "        const buttonEl =\n",
              "          document.querySelector('#df-2447290b-aec2-45ba-a15b-ab4202f94416 button.colab-df-convert');\n",
              "        buttonEl.style.display =\n",
              "          google.colab.kernel.accessAllowed ? 'block' : 'none';\n",
              "\n",
              "        async function convertToInteractive(key) {\n",
              "          const element = document.querySelector('#df-2447290b-aec2-45ba-a15b-ab4202f94416');\n",
              "          const dataTable =\n",
              "            await google.colab.kernel.invokeFunction('convertToInteractive',\n",
              "                                                     [key], {});\n",
              "          if (!dataTable) return;\n",
              "\n",
              "          const docLinkHtml = 'Like what you see? Visit the ' +\n",
              "            '<a target=\"_blank\" href=https://colab.research.google.com/notebooks/data_table.ipynb>data table notebook</a>'\n",
              "            + ' to learn more about interactive tables.';\n",
              "          element.innerHTML = '';\n",
              "          dataTable['output_type'] = 'display_data';\n",
              "          await google.colab.output.renderOutput(dataTable, element);\n",
              "          const docLink = document.createElement('div');\n",
              "          docLink.innerHTML = docLinkHtml;\n",
              "          element.appendChild(docLink);\n",
              "        }\n",
              "      </script>\n",
              "    </div>\n",
              "  </div>\n",
              "  "
            ]
          },
          "metadata": {},
          "execution_count": 5
        }
      ],
      "source": [
        "# preview the data\n",
        "df.tail()"
      ]
    },
    {
      "cell_type": "markdown",
      "metadata": {
        "id": "OdvNARyQWo9V"
      },
      "source": [
        "***Which features contain blank, null or empty values?***\n",
        "\n",
        "We can check for missing values with pandas isnull(). This indicates whether values are missing or not. Then we can sum all the values to check every column. "
      ]
    },
    {
      "cell_type": "code",
      "execution_count": 6,
      "metadata": {
        "colab": {
          "base_uri": "https://localhost:8080/"
        },
        "id": "n2Vw2YF0Wo9W",
        "outputId": "921e7453-378e-49c9-d57b-62468b69f252"
      },
      "outputs": [
        {
          "output_type": "execute_result",
          "data": {
            "text/plain": [
              "id               0\n",
              "date             0\n",
              "price            0\n",
              "bedrooms         0\n",
              "bathrooms        0\n",
              "sqft_living      0\n",
              "sqft_lot         0\n",
              "floors           0\n",
              "waterfront       0\n",
              "view             0\n",
              "condition        0\n",
              "grade            0\n",
              "sqft_above       0\n",
              "sqft_basement    0\n",
              "yr_built         0\n",
              "yr_renovated     0\n",
              "zipcode          0\n",
              "lat              0\n",
              "long             0\n",
              "sqft_living15    0\n",
              "sqft_lot15       0\n",
              "dtype: int64"
            ]
          },
          "metadata": {},
          "execution_count": 6
        }
      ],
      "source": [
        "# No missing values\n",
        "df.isnull().sum()"
      ]
    },
    {
      "cell_type": "markdown",
      "metadata": {
        "id": "-wbUY5j0Wo9h"
      },
      "source": [
        "<a id=\"ch4\"></a>\n",
        "## Working with Feature Data\n",
        "<hr/>\n"
      ]
    },
    {
      "cell_type": "code",
      "execution_count": 8,
      "metadata": {
        "id": "Iy1gqzLKWo9h"
      },
      "outputs": [],
      "source": [
        "df = df.drop('id', axis=1)\n",
        "df = df.drop('zipcode',axis=1)"
      ]
    },
    {
      "cell_type": "markdown",
      "metadata": {
        "id": "TF-vkGi6Wo9i"
      },
      "source": [
        "<a id=\"ch5\"></a>\n",
        "## Feature engineering\n",
        "<hr/>\n"
      ]
    },
    {
      "cell_type": "code",
      "execution_count": 9,
      "metadata": {
        "colab": {
          "base_uri": "https://localhost:8080/"
        },
        "id": "e3V1jcS9Wo9i",
        "outputId": "6b4d1cf7-af57-4d94-edf2-0b5fdafd4da2"
      },
      "outputs": [
        {
          "output_type": "stream",
          "name": "stdout",
          "text": [
            "['price' 'bedrooms' 'bathrooms' 'sqft_living' 'sqft_lot' 'floors'\n",
            " 'waterfront' 'view' 'condition' 'grade' 'sqft_above' 'sqft_basement'\n",
            " 'yr_built' 'yr_renovated' 'lat' 'long' 'sqft_living15' 'sqft_lot15'\n",
            " 'month' 'year']\n"
          ]
        }
      ],
      "source": [
        "df['date'] = pd.to_datetime(df['date'])\n",
        "\n",
        "df['month'] = df['date'].apply(lambda date:date.month)\n",
        "df['year'] = df['date'].apply(lambda date:date.year)\n",
        "\n",
        "df = df.drop('date',axis=1)\n",
        "\n",
        "# Check the new columns\n",
        "print(df.columns.values)"
      ]
    },
    {
      "cell_type": "code",
      "execution_count": 10,
      "metadata": {
        "id": "gtq7878_Wo9k"
      },
      "outputs": [],
      "source": [
        "# Features\n",
        "X = df.drop('price',axis=1)\n",
        "\n",
        "# Label\n",
        "y = df['price']\n",
        "\n",
        "# Split\n",
        "X_train, X_test, y_train, y_test = train_test_split(X,y,test_size=0.3,random_state=101)"
      ]
    },
    {
      "cell_type": "code",
      "execution_count": 11,
      "metadata": {
        "colab": {
          "base_uri": "https://localhost:8080/"
        },
        "id": "omo7WDvWWo9l",
        "outputId": "4ccc1525-7d66-4735-8d54-3660ab1c8d10"
      },
      "outputs": [
        {
          "output_type": "stream",
          "name": "stdout",
          "text": [
            "(15129, 19)\n",
            "(6484, 19)\n",
            "(15129,)\n",
            "(6484,)\n"
          ]
        }
      ],
      "source": [
        "print(X_train.shape)\n",
        "print(X_test.shape)\n",
        "print(y_train.shape)\n",
        "print(y_test.shape)"
      ]
    },
    {
      "cell_type": "markdown",
      "metadata": {
        "id": "HaXFwRMVWo9l"
      },
      "source": [
        "### Normalizing / scaling the data\n",
        "We scale the feature data. To prevent data leakage from the test set, we only fit our scaler to the training set."
      ]
    },
    {
      "cell_type": "code",
      "execution_count": 12,
      "metadata": {
        "colab": {
          "base_uri": "https://localhost:8080/"
        },
        "id": "KQd5ebeFWo9l",
        "outputId": "9c23a6c8-bdfc-4239-9521-e8731ab76f83"
      },
      "outputs": [
        {
          "output_type": "stream",
          "name": "stdout",
          "text": [
            "Max:  1.0000000000000002\n",
            "Min:  0.0\n"
          ]
        }
      ],
      "source": [
        "scaler = MinMaxScaler()\n",
        "\n",
        "# fit and transfrom\n",
        "X_train = scaler.fit_transform(X_train)\n",
        "X_test = scaler.transform(X_test)\n",
        "\n",
        "# everything has been scaled between 1 and 0\n",
        "print('Max: ',X_train.max())\n",
        "print('Min: ', X_train.min())"
      ]
    },
    {
      "cell_type": "markdown",
      "metadata": {
        "id": "gg_1bRYwWo9m"
      },
      "source": [
        "<a id=\"ch7\"></a>\n",
        "## Creating a model\n"
      ]
    },
    {
      "cell_type": "code",
      "execution_count": 13,
      "metadata": {
        "id": "n3AXX3-eWo9m"
      },
      "outputs": [],
      "source": [
        "model = Sequential()\n",
        "\n",
        "# input layer\n",
        "model.add(Dense(19,activation='relu'))\n",
        "\n",
        "# hidden layers\n",
        "model.add(Dense(300,activation='relu'))\n",
        "model.add(Dense(300,activation='relu'))\n",
        "model.add(Dense(130,activation='relu'))\n",
        "\n",
        "# output layer\n",
        "model.add(Dense(1))\n",
        "model.compile(optimizer='adam',loss='mse',metrics = ['accuracy'])\n"
      ]
    },
    {
      "cell_type": "code",
      "execution_count": 13,
      "metadata": {
        "id": "6oxl3WE4QJBr"
      },
      "outputs": [],
      "source": []
    },
    {
      "cell_type": "markdown",
      "metadata": {
        "id": "ZHBCMfVYWo9m"
      },
      "source": [
        "<a id=\"ch8\"></a>\n",
        "## Training the model\n"
      ]
    },
    {
      "cell_type": "code",
      "execution_count": 14,
      "metadata": {
        "colab": {
          "base_uri": "https://localhost:8080/"
        },
        "collapsed": true,
        "id": "p_IoE6BWWo9n",
        "outputId": "8462aa75-e8ca-47e2-8c12-6ed4aa4bdce1"
      },
      "outputs": [
        {
          "output_type": "stream",
          "name": "stdout",
          "text": [
            "Epoch 1/50\n",
            "119/119 [==============================] - 2s 10ms/step - loss: 407470309376.0000 - accuracy: 0.0000e+00 - val_loss: 313756909568.0000 - val_accuracy: 0.0000e+00\n",
            "Epoch 2/50\n",
            "119/119 [==============================] - 1s 9ms/step - loss: 128152076288.0000 - accuracy: 0.0000e+00 - val_loss: 99896934400.0000 - val_accuracy: 0.0000e+00\n",
            "Epoch 3/50\n",
            "119/119 [==============================] - 1s 8ms/step - loss: 91005763584.0000 - accuracy: 0.0000e+00 - val_loss: 90793574400.0000 - val_accuracy: 0.0000e+00\n",
            "Epoch 4/50\n",
            "119/119 [==============================] - 1s 8ms/step - loss: 82104745984.0000 - accuracy: 0.0000e+00 - val_loss: 80201637888.0000 - val_accuracy: 0.0000e+00\n",
            "Epoch 5/50\n",
            "119/119 [==============================] - 1s 8ms/step - loss: 71668850688.0000 - accuracy: 0.0000e+00 - val_loss: 68472938496.0000 - val_accuracy: 0.0000e+00\n",
            "Epoch 6/50\n",
            "119/119 [==============================] - 1s 8ms/step - loss: 61488201728.0000 - accuracy: 0.0000e+00 - val_loss: 58424045568.0000 - val_accuracy: 0.0000e+00\n",
            "Epoch 7/50\n",
            "119/119 [==============================] - 1s 8ms/step - loss: 54406979584.0000 - accuracy: 0.0000e+00 - val_loss: 52512464896.0000 - val_accuracy: 0.0000e+00\n",
            "Epoch 8/50\n",
            "119/119 [==============================] - 1s 9ms/step - loss: 50395987968.0000 - accuracy: 0.0000e+00 - val_loss: 49207631872.0000 - val_accuracy: 0.0000e+00\n",
            "Epoch 9/50\n",
            "119/119 [==============================] - 1s 8ms/step - loss: 47413383168.0000 - accuracy: 0.0000e+00 - val_loss: 46354157568.0000 - val_accuracy: 0.0000e+00\n",
            "Epoch 10/50\n",
            "119/119 [==============================] - 1s 9ms/step - loss: 45231968256.0000 - accuracy: 0.0000e+00 - val_loss: 43814232064.0000 - val_accuracy: 0.0000e+00\n",
            "Epoch 11/50\n",
            "119/119 [==============================] - 1s 8ms/step - loss: 42999508992.0000 - accuracy: 0.0000e+00 - val_loss: 41938558976.0000 - val_accuracy: 0.0000e+00\n",
            "Epoch 12/50\n",
            "119/119 [==============================] - 1s 8ms/step - loss: 41396051968.0000 - accuracy: 0.0000e+00 - val_loss: 40293457920.0000 - val_accuracy: 0.0000e+00\n",
            "Epoch 13/50\n",
            "119/119 [==============================] - 1s 9ms/step - loss: 39962136576.0000 - accuracy: 0.0000e+00 - val_loss: 38826741760.0000 - val_accuracy: 0.0000e+00\n",
            "Epoch 14/50\n",
            "119/119 [==============================] - 1s 9ms/step - loss: 38960852992.0000 - accuracy: 0.0000e+00 - val_loss: 37893578752.0000 - val_accuracy: 0.0000e+00\n",
            "Epoch 15/50\n",
            "119/119 [==============================] - 1s 9ms/step - loss: 37972426752.0000 - accuracy: 0.0000e+00 - val_loss: 36908756992.0000 - val_accuracy: 0.0000e+00\n",
            "Epoch 16/50\n",
            "119/119 [==============================] - 1s 9ms/step - loss: 37240033280.0000 - accuracy: 0.0000e+00 - val_loss: 36283904000.0000 - val_accuracy: 0.0000e+00\n",
            "Epoch 17/50\n",
            "119/119 [==============================] - 1s 8ms/step - loss: 36564365312.0000 - accuracy: 0.0000e+00 - val_loss: 35605569536.0000 - val_accuracy: 0.0000e+00\n",
            "Epoch 18/50\n",
            "119/119 [==============================] - 1s 9ms/step - loss: 36104474624.0000 - accuracy: 0.0000e+00 - val_loss: 35248553984.0000 - val_accuracy: 0.0000e+00\n",
            "Epoch 19/50\n",
            "119/119 [==============================] - 1s 9ms/step - loss: 35577475072.0000 - accuracy: 0.0000e+00 - val_loss: 34889519104.0000 - val_accuracy: 0.0000e+00\n",
            "Epoch 20/50\n",
            "119/119 [==============================] - 1s 8ms/step - loss: 35294507008.0000 - accuracy: 0.0000e+00 - val_loss: 34520690688.0000 - val_accuracy: 0.0000e+00\n",
            "Epoch 21/50\n",
            "119/119 [==============================] - 1s 8ms/step - loss: 35140087808.0000 - accuracy: 0.0000e+00 - val_loss: 34014773248.0000 - val_accuracy: 0.0000e+00\n",
            "Epoch 22/50\n",
            "119/119 [==============================] - 1s 8ms/step - loss: 34796900352.0000 - accuracy: 0.0000e+00 - val_loss: 33888106496.0000 - val_accuracy: 0.0000e+00\n",
            "Epoch 23/50\n",
            "119/119 [==============================] - 1s 9ms/step - loss: 34454900736.0000 - accuracy: 0.0000e+00 - val_loss: 34771722240.0000 - val_accuracy: 0.0000e+00\n",
            "Epoch 24/50\n",
            "119/119 [==============================] - 1s 9ms/step - loss: 34245414912.0000 - accuracy: 0.0000e+00 - val_loss: 33429534720.0000 - val_accuracy: 0.0000e+00\n",
            "Epoch 25/50\n",
            "119/119 [==============================] - 1s 9ms/step - loss: 34014533632.0000 - accuracy: 0.0000e+00 - val_loss: 33095170048.0000 - val_accuracy: 0.0000e+00\n",
            "Epoch 26/50\n",
            "119/119 [==============================] - 1s 9ms/step - loss: 33838030848.0000 - accuracy: 0.0000e+00 - val_loss: 32908306432.0000 - val_accuracy: 0.0000e+00\n",
            "Epoch 27/50\n",
            "119/119 [==============================] - 1s 9ms/step - loss: 33774839808.0000 - accuracy: 0.0000e+00 - val_loss: 32699713536.0000 - val_accuracy: 0.0000e+00\n",
            "Epoch 28/50\n",
            "119/119 [==============================] - 1s 8ms/step - loss: 33563400192.0000 - accuracy: 0.0000e+00 - val_loss: 32515520512.0000 - val_accuracy: 0.0000e+00\n",
            "Epoch 29/50\n",
            "119/119 [==============================] - 1s 8ms/step - loss: 33363712000.0000 - accuracy: 0.0000e+00 - val_loss: 32364601344.0000 - val_accuracy: 0.0000e+00\n",
            "Epoch 30/50\n",
            "119/119 [==============================] - 1s 8ms/step - loss: 33069205504.0000 - accuracy: 0.0000e+00 - val_loss: 32274984960.0000 - val_accuracy: 0.0000e+00\n",
            "Epoch 31/50\n",
            "119/119 [==============================] - 1s 8ms/step - loss: 33012656128.0000 - accuracy: 0.0000e+00 - val_loss: 32098656256.0000 - val_accuracy: 0.0000e+00\n",
            "Epoch 32/50\n",
            "119/119 [==============================] - 1s 8ms/step - loss: 32722704384.0000 - accuracy: 0.0000e+00 - val_loss: 32198002688.0000 - val_accuracy: 0.0000e+00\n",
            "Epoch 33/50\n",
            "119/119 [==============================] - 1s 8ms/step - loss: 32676595712.0000 - accuracy: 0.0000e+00 - val_loss: 31846213632.0000 - val_accuracy: 0.0000e+00\n",
            "Epoch 34/50\n",
            "119/119 [==============================] - 1s 10ms/step - loss: 32582742016.0000 - accuracy: 0.0000e+00 - val_loss: 31889375232.0000 - val_accuracy: 0.0000e+00\n",
            "Epoch 35/50\n",
            "119/119 [==============================] - 2s 13ms/step - loss: 32638384128.0000 - accuracy: 0.0000e+00 - val_loss: 32002027520.0000 - val_accuracy: 0.0000e+00\n",
            "Epoch 36/50\n",
            "119/119 [==============================] - 2s 15ms/step - loss: 32444002304.0000 - accuracy: 0.0000e+00 - val_loss: 31534389248.0000 - val_accuracy: 0.0000e+00\n",
            "Epoch 37/50\n",
            "119/119 [==============================] - 1s 12ms/step - loss: 32134506496.0000 - accuracy: 0.0000e+00 - val_loss: 31403409408.0000 - val_accuracy: 0.0000e+00\n",
            "Epoch 38/50\n",
            "119/119 [==============================] - 1s 9ms/step - loss: 32013971456.0000 - accuracy: 0.0000e+00 - val_loss: 31294726144.0000 - val_accuracy: 0.0000e+00\n",
            "Epoch 39/50\n",
            "119/119 [==============================] - 1s 8ms/step - loss: 31930431488.0000 - accuracy: 0.0000e+00 - val_loss: 31193546752.0000 - val_accuracy: 0.0000e+00\n",
            "Epoch 40/50\n",
            "119/119 [==============================] - 1s 9ms/step - loss: 31923963904.0000 - accuracy: 0.0000e+00 - val_loss: 31335706624.0000 - val_accuracy: 0.0000e+00\n",
            "Epoch 41/50\n",
            "119/119 [==============================] - 1s 9ms/step - loss: 31776548864.0000 - accuracy: 0.0000e+00 - val_loss: 31015651328.0000 - val_accuracy: 0.0000e+00\n",
            "Epoch 42/50\n",
            "119/119 [==============================] - 1s 9ms/step - loss: 31698853888.0000 - accuracy: 0.0000e+00 - val_loss: 31047360512.0000 - val_accuracy: 0.0000e+00\n",
            "Epoch 43/50\n",
            "119/119 [==============================] - 1s 8ms/step - loss: 31575619584.0000 - accuracy: 0.0000e+00 - val_loss: 30771773440.0000 - val_accuracy: 0.0000e+00\n",
            "Epoch 44/50\n",
            "119/119 [==============================] - 1s 8ms/step - loss: 31367198720.0000 - accuracy: 0.0000e+00 - val_loss: 30608623616.0000 - val_accuracy: 0.0000e+00\n",
            "Epoch 45/50\n",
            "119/119 [==============================] - 1s 8ms/step - loss: 31494504448.0000 - accuracy: 0.0000e+00 - val_loss: 30698668032.0000 - val_accuracy: 0.0000e+00\n",
            "Epoch 46/50\n",
            "119/119 [==============================] - 1s 8ms/step - loss: 31172034560.0000 - accuracy: 0.0000e+00 - val_loss: 30414413824.0000 - val_accuracy: 0.0000e+00\n",
            "Epoch 47/50\n",
            "119/119 [==============================] - 1s 10ms/step - loss: 31104878592.0000 - accuracy: 0.0000e+00 - val_loss: 30343149568.0000 - val_accuracy: 0.0000e+00\n",
            "Epoch 48/50\n",
            "119/119 [==============================] - 1s 9ms/step - loss: 31073320960.0000 - accuracy: 0.0000e+00 - val_loss: 30269476864.0000 - val_accuracy: 0.0000e+00\n",
            "Epoch 49/50\n",
            "119/119 [==============================] - 1s 8ms/step - loss: 30863376384.0000 - accuracy: 0.0000e+00 - val_loss: 30248419328.0000 - val_accuracy: 0.0000e+00\n",
            "Epoch 50/50\n",
            "119/119 [==============================] - 1s 9ms/step - loss: 30754506752.0000 - accuracy: 0.0000e+00 - val_loss: 30094770176.0000 - val_accuracy: 0.0000e+00\n"
          ]
        }
      ],
      "source": [
        "history = model.fit(x=X_train,y=y_train.values,\n",
        "          validation_data=(X_test,y_test.values),\n",
        "          batch_size=128,epochs=50)"
      ]
    },
    {
      "cell_type": "markdown",
      "metadata": {
        "id": "MvaF5-d2Wo9n"
      },
      "source": [
        "### Training loss per epoch\n",
        "* This plot shows the training loss per epoch.\n",
        "* This plot helps us to see if there is overfitting in the model. In this case there is no overfitting because both lines go down at the same time. "
      ]
    },
    {
      "cell_type": "code",
      "execution_count": 15,
      "metadata": {
        "id": "YMIQVcpqWo9n",
        "colab": {
          "base_uri": "https://localhost:8080/",
          "height": 1000
        },
        "outputId": "78e5ec1c-4829-473c-987e-8c14e05fbb7c"
      },
      "outputs": [
        {
          "output_type": "stream",
          "name": "stdout",
          "text": [
            "            loss  accuracy      val_loss  val_accuracy\n",
            "0   4.074703e+11       0.0  3.137569e+11           0.0\n",
            "1   1.281521e+11       0.0  9.989693e+10           0.0\n",
            "2   9.100576e+10       0.0  9.079357e+10           0.0\n",
            "3   8.210475e+10       0.0  8.020164e+10           0.0\n",
            "4   7.166885e+10       0.0  6.847294e+10           0.0\n",
            "5   6.148820e+10       0.0  5.842405e+10           0.0\n",
            "6   5.440698e+10       0.0  5.251246e+10           0.0\n",
            "7   5.039599e+10       0.0  4.920763e+10           0.0\n",
            "8   4.741338e+10       0.0  4.635416e+10           0.0\n",
            "9   4.523197e+10       0.0  4.381423e+10           0.0\n",
            "10  4.299951e+10       0.0  4.193856e+10           0.0\n",
            "11  4.139605e+10       0.0  4.029346e+10           0.0\n",
            "12  3.996214e+10       0.0  3.882674e+10           0.0\n",
            "13  3.896085e+10       0.0  3.789358e+10           0.0\n",
            "14  3.797243e+10       0.0  3.690876e+10           0.0\n",
            "15  3.724003e+10       0.0  3.628390e+10           0.0\n",
            "16  3.656437e+10       0.0  3.560557e+10           0.0\n",
            "17  3.610447e+10       0.0  3.524855e+10           0.0\n",
            "18  3.557748e+10       0.0  3.488952e+10           0.0\n",
            "19  3.529451e+10       0.0  3.452069e+10           0.0\n",
            "20  3.514009e+10       0.0  3.401477e+10           0.0\n",
            "21  3.479690e+10       0.0  3.388811e+10           0.0\n",
            "22  3.445490e+10       0.0  3.477172e+10           0.0\n",
            "23  3.424541e+10       0.0  3.342953e+10           0.0\n",
            "24  3.401453e+10       0.0  3.309517e+10           0.0\n",
            "25  3.383803e+10       0.0  3.290831e+10           0.0\n",
            "26  3.377484e+10       0.0  3.269971e+10           0.0\n",
            "27  3.356340e+10       0.0  3.251552e+10           0.0\n",
            "28  3.336371e+10       0.0  3.236460e+10           0.0\n",
            "29  3.306921e+10       0.0  3.227498e+10           0.0\n",
            "30  3.301266e+10       0.0  3.209866e+10           0.0\n",
            "31  3.272270e+10       0.0  3.219800e+10           0.0\n",
            "32  3.267660e+10       0.0  3.184621e+10           0.0\n",
            "33  3.258274e+10       0.0  3.188938e+10           0.0\n",
            "34  3.263838e+10       0.0  3.200203e+10           0.0\n",
            "35  3.244400e+10       0.0  3.153439e+10           0.0\n",
            "36  3.213451e+10       0.0  3.140341e+10           0.0\n",
            "37  3.201397e+10       0.0  3.129473e+10           0.0\n",
            "38  3.193043e+10       0.0  3.119355e+10           0.0\n",
            "39  3.192396e+10       0.0  3.133571e+10           0.0\n",
            "40  3.177655e+10       0.0  3.101565e+10           0.0\n",
            "41  3.169885e+10       0.0  3.104736e+10           0.0\n",
            "42  3.157562e+10       0.0  3.077177e+10           0.0\n",
            "43  3.136720e+10       0.0  3.060862e+10           0.0\n",
            "44  3.149450e+10       0.0  3.069867e+10           0.0\n",
            "45  3.117203e+10       0.0  3.041441e+10           0.0\n",
            "46  3.110488e+10       0.0  3.034315e+10           0.0\n",
            "47  3.107332e+10       0.0  3.026948e+10           0.0\n",
            "48  3.086338e+10       0.0  3.024842e+10           0.0\n",
            "49  3.075451e+10       0.0  3.009477e+10           0.0\n"
          ]
        },
        {
          "output_type": "display_data",
          "data": {
            "text/plain": [
              "<Figure size 1080x360 with 1 Axes>"
            ],
            "image/png": "[encoded data removed]"
          },
          "metadata": {
            "needs_background": "light"
          }
        }
      ],
      "source": [
        "losses = pd.DataFrame(model.history.history)\n",
        "print(losses)\n",
        "plt.figure(figsize=(15,5))\n",
        "sns.lineplot(data=losses,lw=3)\n",
        "plt.xlabel('Epochs')\n",
        "plt.ylabel('')\n",
        "plt.title('Training Loss per Epoch')\n",
        "sns.despine()"
      ]
    },
    {
      "cell_type": "code",
      "execution_count": 20,
      "metadata": {
        "id": "kRC6EgUapZuW",
        "colab": {
          "base_uri": "https://localhost:8080/"
        },
        "outputId": "43de30b1-0124-43a4-ef4f-489555058712"
      },
      "outputs": [
        {
          "output_type": "stream",
          "name": "stdout",
          "text": [
            "Looking in indexes: https://pypi.org/simple, https://us-python.pkg.dev/colab-wheels/public/simple/\n",
            "Collecting autokeras\n",
            "  Downloading autokeras-1.0.20-py3-none-any.whl (162 kB)\n",
            "\u001b[K     |████████████████████████████████| 162 kB 5.2 MB/s \n",
            "\u001b[?25hRequirement already satisfied: packaging in /usr/local/lib/python3.8/dist-packages (from autokeras) (21.3)\n",
            "Requirement already satisfied: pandas in /usr/local/lib/python3.8/dist-packages (from autokeras) (1.3.5)\n",
            "Collecting keras-tuner>=1.1.0\n",
            "  Downloading keras_tuner-1.1.3-py3-none-any.whl (135 kB)\n",
            "\u001b[K     |████████████████████████████████| 135 kB 55.3 MB/s \n",
            "\u001b[?25hRequirement already satisfied: tensorflow>=2.8.0 in /usr/local/lib/python3.8/dist-packages (from autokeras) (2.9.2)\n",
            "Requirement already satisfied: numpy in /usr/local/lib/python3.8/dist-packages (from keras-tuner>=1.1.0->autokeras) (1.21.6)\n",
            "Collecting kt-legacy\n",
            "  Downloading kt_legacy-1.0.4-py3-none-any.whl (9.6 kB)\n",
            "Requirement already satisfied: tensorboard in /usr/local/lib/python3.8/dist-packages (from keras-tuner>=1.1.0->autokeras) (2.9.1)\n",
            "Requirement already satisfied: requests in /usr/local/lib/python3.8/dist-packages (from keras-tuner>=1.1.0->autokeras) (2.23.0)\n",
            "Requirement already satisfied: ipython in /usr/local/lib/python3.8/dist-packages (from keras-tuner>=1.1.0->autokeras) (7.9.0)\n",
            "Requirement already satisfied: astunparse>=1.6.0 in /usr/local/lib/python3.8/dist-packages (from tensorflow>=2.8.0->autokeras) (1.6.3)\n",
            "Requirement already satisfied: grpcio<2.0,>=1.24.3 in /usr/local/lib/python3.8/dist-packages (from tensorflow>=2.8.0->autokeras) (1.51.1)\n",
            "Requirement already satisfied: keras<2.10.0,>=2.9.0rc0 in /usr/local/lib/python3.8/dist-packages (from tensorflow>=2.8.0->autokeras) (2.9.0)\n",
            "Requirement already satisfied: wrapt>=1.11.0 in /usr/local/lib/python3.8/dist-packages (from tensorflow>=2.8.0->autokeras) (1.14.1)\n",
            "Requirement already satisfied: opt-einsum>=2.3.2 in /usr/local/lib/python3.8/dist-packages (from tensorflow>=2.8.0->autokeras) (3.3.0)\n",
            "Requirement already satisfied: flatbuffers<2,>=1.12 in /usr/local/lib/python3.8/dist-packages (from tensorflow>=2.8.0->autokeras) (1.12)\n",
            "Requirement already satisfied: keras-preprocessing>=1.1.1 in /usr/local/lib/python3.8/dist-packages (from tensorflow>=2.8.0->autokeras) (1.1.2)\n",
            "Requirement already satisfied: protobuf<3.20,>=3.9.2 in /usr/local/lib/python3.8/dist-packages (from tensorflow>=2.8.0->autokeras) (3.19.6)\n",
            "Requirement already satisfied: setuptools in /usr/local/lib/python3.8/dist-packages (from tensorflow>=2.8.0->autokeras) (57.4.0)\n",
            "Requirement already satisfied: termcolor>=1.1.0 in /usr/local/lib/python3.8/dist-packages (from tensorflow>=2.8.0->autokeras) (2.1.1)\n",
            "Requirement already satisfied: libclang>=13.0.0 in /usr/local/lib/python3.8/dist-packages (from tensorflow>=2.8.0->autokeras) (14.0.6)\n",
            "Requirement already satisfied: typing-extensions>=3.6.6 in /usr/local/lib/python3.8/dist-packages (from tensorflow>=2.8.0->autokeras) (4.4.0)\n",
            "Requirement already satisfied: gast<=0.4.0,>=0.2.1 in /usr/local/lib/python3.8/dist-packages (from tensorflow>=2.8.0->autokeras) (0.4.0)\n",
            "Requirement already satisfied: absl-py>=1.0.0 in /usr/local/lib/python3.8/dist-packages (from tensorflow>=2.8.0->autokeras) (1.3.0)\n",
            "Requirement already satisfied: google-pasta>=0.1.1 in /usr/local/lib/python3.8/dist-packages (from tensorflow>=2.8.0->autokeras) (0.2.0)\n",
            "Requirement already satisfied: h5py>=2.9.0 in /usr/local/lib/python3.8/dist-packages (from tensorflow>=2.8.0->autokeras) (3.1.0)\n",
            "Requirement already satisfied: tensorflow-estimator<2.10.0,>=2.9.0rc0 in /usr/local/lib/python3.8/dist-packages (from tensorflow>=2.8.0->autokeras) (2.9.0)\n",
            "Requirement already satisfied: six>=1.12.0 in /usr/local/lib/python3.8/dist-packages (from tensorflow>=2.8.0->autokeras) (1.15.0)\n",
            "Requirement already satisfied: tensorflow-io-gcs-filesystem>=0.23.1 in /usr/local/lib/python3.8/dist-packages (from tensorflow>=2.8.0->autokeras) (0.28.0)\n",
            "Requirement already satisfied: wheel<1.0,>=0.23.0 in /usr/local/lib/python3.8/dist-packages (from astunparse>=1.6.0->tensorflow>=2.8.0->autokeras) (0.38.4)\n",
            "Requirement already satisfied: markdown>=2.6.8 in /usr/local/lib/python3.8/dist-packages (from tensorboard->keras-tuner>=1.1.0->autokeras) (3.4.1)\n",
            "Requirement already satisfied: tensorboard-plugin-wit>=1.6.0 in /usr/local/lib/python3.8/dist-packages (from tensorboard->keras-tuner>=1.1.0->autokeras) (1.8.1)\n",
            "Requirement already satisfied: google-auth-oauthlib<0.5,>=0.4.1 in /usr/local/lib/python3.8/dist-packages (from tensorboard->keras-tuner>=1.1.0->autokeras) (0.4.6)\n",
            "Requirement already satisfied: tensorboard-data-server<0.7.0,>=0.6.0 in /usr/local/lib/python3.8/dist-packages (from tensorboard->keras-tuner>=1.1.0->autokeras) (0.6.1)\n",
            "Requirement already satisfied: werkzeug>=1.0.1 in /usr/local/lib/python3.8/dist-packages (from tensorboard->keras-tuner>=1.1.0->autokeras) (1.0.1)\n",
            "Requirement already satisfied: google-auth<3,>=1.6.3 in /usr/local/lib/python3.8/dist-packages (from tensorboard->keras-tuner>=1.1.0->autokeras) (2.15.0)\n",
            "Requirement already satisfied: rsa<5,>=3.1.4 in /usr/local/lib/python3.8/dist-packages (from google-auth<3,>=1.6.3->tensorboard->keras-tuner>=1.1.0->autokeras) (4.9)\n",
            "Requirement already satisfied: cachetools<6.0,>=2.0.0 in /usr/local/lib/python3.8/dist-packages (from google-auth<3,>=1.6.3->tensorboard->keras-tuner>=1.1.0->autokeras) (5.2.0)\n",
            "Requirement already satisfied: pyasn1-modules>=0.2.1 in /usr/local/lib/python3.8/dist-packages (from google-auth<3,>=1.6.3->tensorboard->keras-tuner>=1.1.0->autokeras) (0.2.8)\n",
            "Requirement already satisfied: requests-oauthlib>=0.7.0 in /usr/local/lib/python3.8/dist-packages (from google-auth-oauthlib<0.5,>=0.4.1->tensorboard->keras-tuner>=1.1.0->autokeras) (1.3.1)\n",
            "Requirement already satisfied: importlib-metadata>=4.4 in /usr/local/lib/python3.8/dist-packages (from markdown>=2.6.8->tensorboard->keras-tuner>=1.1.0->autokeras) (5.1.0)\n",
            "Requirement already satisfied: zipp>=0.5 in /usr/local/lib/python3.8/dist-packages (from importlib-metadata>=4.4->markdown>=2.6.8->tensorboard->keras-tuner>=1.1.0->autokeras) (3.11.0)\n",
            "Requirement already satisfied: pyasn1<0.5.0,>=0.4.6 in /usr/local/lib/python3.8/dist-packages (from pyasn1-modules>=0.2.1->google-auth<3,>=1.6.3->tensorboard->keras-tuner>=1.1.0->autokeras) (0.4.8)\n",
            "Requirement already satisfied: urllib3!=1.25.0,!=1.25.1,<1.26,>=1.21.1 in /usr/local/lib/python3.8/dist-packages (from requests->keras-tuner>=1.1.0->autokeras) (1.24.3)\n",
            "Requirement already satisfied: idna<3,>=2.5 in /usr/local/lib/python3.8/dist-packages (from requests->keras-tuner>=1.1.0->autokeras) (2.10)\n",
            "Requirement already satisfied: chardet<4,>=3.0.2 in /usr/local/lib/python3.8/dist-packages (from requests->keras-tuner>=1.1.0->autokeras) (3.0.4)\n",
            "Requirement already satisfied: certifi>=2017.4.17 in /usr/local/lib/python3.8/dist-packages (from requests->keras-tuner>=1.1.0->autokeras) (2022.12.7)\n",
            "Requirement already satisfied: oauthlib>=3.0.0 in /usr/local/lib/python3.8/dist-packages (from requests-oauthlib>=0.7.0->google-auth-oauthlib<0.5,>=0.4.1->tensorboard->keras-tuner>=1.1.0->autokeras) (3.2.2)\n",
            "Requirement already satisfied: pexpect in /usr/local/lib/python3.8/dist-packages (from ipython->keras-tuner>=1.1.0->autokeras) (4.8.0)\n",
            "Requirement already satisfied: traitlets>=4.2 in /usr/local/lib/python3.8/dist-packages (from ipython->keras-tuner>=1.1.0->autokeras) (5.7.1)\n",
            "Requirement already satisfied: backcall in /usr/local/lib/python3.8/dist-packages (from ipython->keras-tuner>=1.1.0->autokeras) (0.2.0)\n",
            "Requirement already satisfied: prompt-toolkit<2.1.0,>=2.0.0 in /usr/local/lib/python3.8/dist-packages (from ipython->keras-tuner>=1.1.0->autokeras) (2.0.10)\n",
            "Collecting jedi>=0.10\n",
            "  Downloading jedi-0.18.2-py2.py3-none-any.whl (1.6 MB)\n",
            "\u001b[K     |████████████████████████████████| 1.6 MB 53.3 MB/s \n",
            "\u001b[?25hRequirement already satisfied: pygments in /usr/local/lib/python3.8/dist-packages (from ipython->keras-tuner>=1.1.0->autokeras) (2.6.1)\n",
            "Requirement already satisfied: pickleshare in /usr/local/lib/python3.8/dist-packages (from ipython->keras-tuner>=1.1.0->autokeras) (0.7.5)\n",
            "Requirement already satisfied: decorator in /usr/local/lib/python3.8/dist-packages (from ipython->keras-tuner>=1.1.0->autokeras) (4.4.2)\n",
            "Requirement already satisfied: parso<0.9.0,>=0.8.0 in /usr/local/lib/python3.8/dist-packages (from jedi>=0.10->ipython->keras-tuner>=1.1.0->autokeras) (0.8.3)\n",
            "Requirement already satisfied: wcwidth in /usr/local/lib/python3.8/dist-packages (from prompt-toolkit<2.1.0,>=2.0.0->ipython->keras-tuner>=1.1.0->autokeras) (0.2.5)\n",
            "Requirement already satisfied: pyparsing!=3.0.5,>=2.0.2 in /usr/local/lib/python3.8/dist-packages (from packaging->autokeras) (3.0.9)\n",
            "Requirement already satisfied: pytz>=2017.3 in /usr/local/lib/python3.8/dist-packages (from pandas->autokeras) (2022.6)\n",
            "Requirement already satisfied: python-dateutil>=2.7.3 in /usr/local/lib/python3.8/dist-packages (from pandas->autokeras) (2.8.2)\n",
            "Requirement already satisfied: ptyprocess>=0.5 in /usr/local/lib/python3.8/dist-packages (from pexpect->ipython->keras-tuner>=1.1.0->autokeras) (0.7.0)\n",
            "Installing collected packages: jedi, kt-legacy, keras-tuner, autokeras\n",
            "Successfully installed autokeras-1.0.20 jedi-0.18.2 keras-tuner-1.1.3 kt-legacy-1.0.4\n"
          ]
        }
      ],
      "source": [
        "!pip install autokeras\n",
        "\n",
        "import autokeras as ak\n"
      ]
    },
    {
      "cell_type": "code",
      "execution_count": 22,
      "metadata": {
        "id": "cxsVF9dutZ65",
        "colab": {
          "base_uri": "https://localhost:8080/"
        },
        "outputId": "2b59061f-13fe-4d45-b890-4260011104dc"
      },
      "outputs": [
        {
          "output_type": "stream",
          "name": "stdout",
          "text": [
            "Trial 3 Complete [00h 00m 20s]\n",
            "val_loss: 344952635392.0\n",
            "\n",
            "Best val_loss So Far: 344952635392.0\n",
            "Total elapsed time: 00h 01m 05s\n",
            "Epoch 1/10\n",
            "119/119 [==============================] - 2s 9ms/step - loss: 423613759488.0000 - mean_squared_error: 423613759488.0000 - val_loss: 432986390528.0000 - val_mean_squared_error: 432986390528.0000\n",
            "Epoch 2/10\n",
            "119/119 [==============================] - 1s 6ms/step - loss: 423244496896.0000 - mean_squared_error: 423244496896.0000 - val_loss: 432139862016.0000 - val_mean_squared_error: 432139862016.0000\n",
            "Epoch 3/10\n",
            "119/119 [==============================] - 1s 8ms/step - loss: 421648859136.0000 - mean_squared_error: 421648859136.0000 - val_loss: 429497090048.0000 - val_mean_squared_error: 429497090048.0000\n",
            "Epoch 4/10\n",
            "119/119 [==============================] - 1s 7ms/step - loss: 417865302016.0000 - mean_squared_error: 417865302016.0000 - val_loss: 424160428032.0000 - val_mean_squared_error: 424160428032.0000\n",
            "Epoch 5/10\n",
            "119/119 [==============================] - 1s 7ms/step - loss: 411131117568.0000 - mean_squared_error: 411131117568.0000 - val_loss: 415463571456.0000 - val_mean_squared_error: 415463571456.0000\n",
            "Epoch 6/10\n",
            "119/119 [==============================] - 1s 8ms/step - loss: 400926539776.0000 - mean_squared_error: 400926539776.0000 - val_loss: 403008356352.0000 - val_mean_squared_error: 403008356352.0000\n",
            "Epoch 7/10\n",
            "119/119 [==============================] - 1s 7ms/step - loss: 387009478656.0000 - mean_squared_error: 387009478656.0000 - val_loss: 386691170304.0000 - val_mean_squared_error: 386691170304.0000\n",
            "Epoch 8/10\n",
            "119/119 [==============================] - 1s 5ms/step - loss: 369440849920.0000 - mean_squared_error: 369440849920.0000 - val_loss: 366725529600.0000 - val_mean_squared_error: 366725529600.0000\n",
            "Epoch 9/10\n",
            "119/119 [==============================] - 1s 6ms/step - loss: 348589522944.0000 - mean_squared_error: 348589522944.0000 - val_loss: 343633821696.0000 - val_mean_squared_error: 343633821696.0000\n",
            "Epoch 10/10\n",
            "119/119 [==============================] - 1s 6ms/step - loss: 325114560512.0000 - mean_squared_error: 325114560512.0000 - val_loss: 318215323648.0000 - val_mean_squared_error: 318215323648.0000\n"
          ]
        }
      ],
      "source": [
        "reg = ak.StructuredDataRegressor(\n",
        "    overwrite=True, max_trials=3\n",
        ") \n",
        "data=reg.fit(\n",
        "    x=X_train,y=y_train.values,\n",
        "          validation_data=(X_test,y_test.values),\n",
        "          batch_size=128,epochs=10\n",
        ")"
      ]
    },
    {
      "cell_type": "markdown",
      "metadata": {
        "id": "19m0tK_3Wo9s"
      },
      "source": [
        "**Thank you** for taking the time to read through my first exploration of a Kaggle dataset. I look forward to doing more!\n",
        "\n",
        "If you have a question or feedback, do not hesitate to comment and if you like this kernel,<b><font color='green'> please upvote! </font></b>"
      ]
    },
    {
      "cell_type": "code",
      "source": [
        "import matplotlib.pyplot as plt\n",
        "\n",
        "#model_Updated.evaluate(Validation_data)\n",
        "plt.plot(data.history['loss'])\n",
        "plt.plot(data.history['val_loss'])\n",
        "plt.title('model lossess')\n",
        "plt.ylabel('loss')\n",
        "plt.xlabel('epoch')\n",
        "plt.legend(['train', 'val'], loc='upper left')\n",
        "plt.show()"
      ],
      "metadata": {
        "colab": {
          "base_uri": "https://localhost:8080/",
          "height": 295
        },
        "id": "4J99xnESE8Ez",
        "outputId": "0bfdf2d9-fb6e-4b4b-9370-f5a1b80e9de5"
      },
      "execution_count": 24,
      "outputs": [
        {
          "output_type": "display_data",
          "data": {
            "text/plain": [
              "<Figure size 432x288 with 1 Axes>"
            ],
            "image/png": "[encoded data removed]"
          },
          "metadata": {
            "needs_background": "light"
          }
        }
      ]
    }
  ],
  "metadata": {
    "colab": {
      "provenance": []
    },
    "kernelspec": {
      "display_name": "Python 3",
      "language": "python",
      "name": "python3"
    },
    "language_info": {
      "codemirror_mode": {
        "name": "ipython",
        "version": 3
      },
      "file_extension": ".py",
      "mimetype": "text/x-python",
      "name": "python",
      "nbconvert_exporter": "python",
      "pygments_lexer": "ipython3",
      "version": "3.7.6"
    },
    "papermill": {
      "duration": 143.392354,
      "end_time": "2020-09-26T15:48:20.132860",
      "environment_variables": {},
      "exception": null,
      "input_path": "__notebook__.ipynb",
      "output_path": "__notebook__.ipynb",
      "parameters": {},
      "start_time": "2020-09-26T15:45:56.740506",
      "version": "2.1.0"
    }
  },
  "nbformat": 4,
  "nbformat_minor": 0
}